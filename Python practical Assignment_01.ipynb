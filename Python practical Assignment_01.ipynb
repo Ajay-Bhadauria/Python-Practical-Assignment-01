{
 "cells": [
  {
   "cell_type": "markdown",
   "id": "07fc6f33",
   "metadata": {},
   "source": [
    "Write a Python program to print \"Hello Python\""
   ]
  },
  {
   "cell_type": "code",
   "execution_count": 1,
   "id": "56f8b77e",
   "metadata": {},
   "outputs": [
    {
     "name": "stdout",
     "output_type": "stream",
     "text": [
      "hello python\n"
     ]
    }
   ],
   "source": [
    "def hello():\n",
    "    print(\"hello python\")\n",
    "    \n",
    "hello()"
   ]
  },
  {
   "cell_type": "markdown",
   "id": "c94ca0bf",
   "metadata": {},
   "source": [
    "Write a Python program to do arithmetical operations addition and division.?"
   ]
  },
  {
   "cell_type": "code",
   "execution_count": 2,
   "id": "d213b281",
   "metadata": {},
   "outputs": [],
   "source": [
    "def add():\n",
    "    try:\n",
    "        \n",
    "\n",
    "        num1  = float(input(\"enter number 1:\"))\n",
    "        num2  = float(input(\"enter number 2:\"))\n",
    "        sum = num1+num2\n",
    "        print(\"sum of num1 and num2 is:\", sum)\n",
    "            \n",
    "    except Exception as e:\n",
    "        print(e)\n",
    "   \n",
    "    \n",
    "def div():\n",
    "    try:\n",
    "        num1  = float(input(\"enter number 1:\"))\n",
    "        num2  = float(input(\"enter number 2:\"))\n",
    "        \n",
    "        div = num1/num2\n",
    "        print(\"division of num1 and num2 is:\", div)\n",
    "        \n",
    "    except Exception as e:\n",
    "        print(\"following error has occured\")\n"
   ]
  },
  {
   "cell_type": "code",
   "execution_count": 3,
   "id": "f7d9c79b",
   "metadata": {},
   "outputs": [
    {
     "name": "stdout",
     "output_type": "stream",
     "text": [
      "enter number 1:56\n",
      "enter number 2:23\n",
      "sum of num1 and num2 is: 79.0\n"
     ]
    }
   ],
   "source": [
    "add()"
   ]
  },
  {
   "cell_type": "code",
   "execution_count": 4,
   "id": "3b67cff4",
   "metadata": {},
   "outputs": [
    {
     "name": "stdout",
     "output_type": "stream",
     "text": [
      "enter number 1:56\n",
      "enter number 2:23\n",
      "division of num1 and num2 is: 2.4347826086956523\n"
     ]
    }
   ],
   "source": [
    "div()"
   ]
  },
  {
   "cell_type": "markdown",
   "id": "331b73a2",
   "metadata": {},
   "source": [
    "Write a Python program to find the area of a triangle?"
   ]
  },
  {
   "cell_type": "code",
   "execution_count": 5,
   "id": "9596f371",
   "metadata": {},
   "outputs": [
    {
     "name": "stdout",
     "output_type": "stream",
     "text": [
      "enter side_1 lenth in cms:4\n",
      "enter side_2 lenth in cms:5\n",
      "enter side_3 lenth in cms:6\n",
      "Area of Triangle is 9.921567416492215 cms\n"
     ]
    }
   ],
   "source": [
    "def area_of_triangle():\n",
    "    \n",
    "    side_1 = float(input(\"enter side_1 lenth in cms:\"))\n",
    "    side_2 = float(input(\"enter side_2 lenth in cms:\"))\n",
    "    side_3 = float(input(\"enter side_3 lenth in cms:\"))\n",
    "    \n",
    "    perimeter = (side_1 + side_2 + side_3) / 2\n",
    "    \n",
    "    area = (perimeter*(perimeter-side_1)*(perimeter-side_2)*(perimeter-side_3)) ** 0.5\n",
    "    \n",
    "    print(f\"Area of Triangle is {area} cms\")\n",
    "    \n",
    "area_of_triangle()"
   ]
  },
  {
   "cell_type": "markdown",
   "id": "bfc5d511",
   "metadata": {},
   "source": [
    "Write a Python program to swap two variables?"
   ]
  },
  {
   "cell_type": "code",
   "execution_count": 6,
   "id": "bb57d205",
   "metadata": {},
   "outputs": [],
   "source": [
    "def swap():\n",
    "    a = float(input(\"Enter value of a:\"))\n",
    "    b = float(input(\"Enter value of b:\"))\n",
    "    a,b = b,a\n",
    "    \n",
    "    print(\"value of a (after swapping) :\",a)\n",
    "    print(\"value of b (after swapping) :\",b)"
   ]
  },
  {
   "cell_type": "code",
   "execution_count": 7,
   "id": "74009460",
   "metadata": {},
   "outputs": [
    {
     "name": "stdout",
     "output_type": "stream",
     "text": [
      "Enter value of a:23\n",
      "Enter value of b:96\n",
      "value of a (after swapping) : 96.0\n",
      "value of b (after swapping) : 23.0\n"
     ]
    }
   ],
   "source": [
    "swap()"
   ]
  },
  {
   "cell_type": "markdown",
   "id": "30ba7c7e",
   "metadata": {},
   "source": [
    "Write a Python program to generate a random number?"
   ]
  },
  {
   "cell_type": "code",
   "execution_count": 10,
   "id": "0221b211",
   "metadata": {},
   "outputs": [
    {
     "name": "stdout",
     "output_type": "stream",
     "text": [
      "Enter lower range:1\n",
      "Enter upper range:100\n",
      "Randomly generated number between 1.0 to 100.0 is 88\n"
     ]
    }
   ],
   "source": [
    "def generate_random_number():\n",
    "    import random\n",
    "    try:\n",
    "        \n",
    "        a = float(input(\"Enter lower range:\"))\n",
    "        b = float(input(\"Enter upper range:\"))\n",
    "\n",
    "        number = random.randint(a,b)\n",
    "        print(f\"Randomly generated number between {a} to {b} is {number}\")\n",
    "        \n",
    "    except Exception as e:\n",
    "        print(e)\n",
    "    \n",
    "generate_random_number()"
   ]
  },
  {
   "cell_type": "code",
   "execution_count": null,
   "id": "96f88be2",
   "metadata": {},
   "outputs": [],
   "source": []
  },
  {
   "cell_type": "code",
   "execution_count": null,
   "id": "0ba1d758",
   "metadata": {},
   "outputs": [],
   "source": []
  }
 ],
 "metadata": {
  "kernelspec": {
   "display_name": "Python 3",
   "language": "python",
   "name": "python3"
  },
  "language_info": {
   "codemirror_mode": {
    "name": "ipython",
    "version": 3
   },
   "file_extension": ".py",
   "mimetype": "text/x-python",
   "name": "python",
   "nbconvert_exporter": "python",
   "pygments_lexer": "ipython3",
   "version": "3.8.8"
  }
 },
 "nbformat": 4,
 "nbformat_minor": 5
}
